{
  "nbformat": 4,
  "nbformat_minor": 0,
  "metadata": {
    "colab": {
      "name": "KMeans_Clustering.ipynb",
      "provenance": [],
      "collapsed_sections": [],
      "authorship_tag": "ABX9TyPN/YJcc285tNHMP6lWnuy6",
      "include_colab_link": true
    },
    "kernelspec": {
      "name": "python3",
      "display_name": "Python 3"
    },
    "language_info": {
      "name": "python"
    }
  },
  "cells": [
    {
      "cell_type": "markdown",
      "metadata": {
        "id": "view-in-github",
        "colab_type": "text"
      },
      "source": [
        "<a href=\"https://colab.research.google.com/github/sahil301290/MachineLearning/blob/main/KMeans_Clustering.ipynb\" target=\"_parent\"><img src=\"https://colab.research.google.com/assets/colab-badge.svg\" alt=\"Open In Colab\"/></a>"
      ]
    },
    {
      "cell_type": "code",
      "metadata": {
        "id": "L_VX8ISv_tfD"
      },
      "source": [
        "import numpy as np\n",
        "import pandas as pd\n",
        "from scipy.spatial.distance import cdist"
      ],
      "execution_count": 1,
      "outputs": []
    },
    {
      "cell_type": "markdown",
      "metadata": {
        "id": "MhkqzW4s_-4E"
      },
      "source": [
        "x = input variables\n",
        "\n",
        "k = how many centers of initial clusters you want\n",
        "\n",
        "no_of_iterations = number of iterations you want to run the algorithm"
      ]
    },
    {
      "cell_type": "code",
      "metadata": {
        "id": "R4ALCAeT_6HE"
      },
      "source": [
        "def kmeans(x,k,no_of_iterations):\n",
        "  ##INITIALIZATION\n",
        "  indx = np.random.choice(len(x),k,replace=False) #randomly choose few centroids\n",
        "  centroids = x[indx,:]\n",
        "  #distance of each training example with each centroid\n",
        "  distances = cdist(x,centroids,'euclidean') #distance matrix x*k\n",
        "  labels = np.array([np.argmin(i) for i in distances]) \n",
        "  ##RUN ITERATIONS\n",
        "  for epochs in range(no_of_iterations):\n",
        "    centroids = []\n",
        "    for i in range(k):\n",
        "      temp = x[labels==i].mean(axis=0)\n",
        "      centroids.append(temp)\n",
        "    centroids = np.vstack(centroids) #Stack arrays in sequence vertically (row wise)\n",
        "    distances = cdist(x,centroids,'euclidean')\n",
        "    labels = np.array([np.argmin(i) for i in distances])\n",
        "  return labels"
      ],
      "execution_count": 2,
      "outputs": []
    },
    {
      "cell_type": "code",
      "metadata": {
        "id": "qdII91oyDr_t"
      },
      "source": [
        "from sklearn.datasets import load_iris\n",
        "from sklearn.decomposition import PCA"
      ],
      "execution_count": 3,
      "outputs": []
    },
    {
      "cell_type": "code",
      "metadata": {
        "id": "wR09ximGEScC"
      },
      "source": [
        "data = load_iris().data\n",
        "pca = PCA(2)\n",
        "df = pca.fit_transform(data)"
      ],
      "execution_count": 4,
      "outputs": []
    },
    {
      "cell_type": "code",
      "metadata": {
        "id": "bqIGcaF8EfmW"
      },
      "source": [
        "labels = kmeans(df,3,300)"
      ],
      "execution_count": 5,
      "outputs": []
    },
    {
      "cell_type": "code",
      "metadata": {
        "colab": {
          "base_uri": "https://localhost:8080/"
        },
        "id": "Ox5R06LPEiiK",
        "outputId": "e3c59ecc-4313-4fb8-d15a-0a677a9d12c1"
      },
      "source": [
        "print(labels)"
      ],
      "execution_count": 6,
      "outputs": [
        {
          "output_type": "stream",
          "name": "stdout",
          "text": [
            "[1 2 2 2 1 1 2 1 2 2 1 1 2 2 1 1 1 1 1 1 1 1 1 1 2 2 1 1 1 2 2 1 1 1 2 1 1\n",
            " 1 2 1 1 2 2 1 1 2 1 2 1 1 0 0 0 0 0 0 0 2 0 0 2 0 0 0 0 0 0 0 0 0 0 0 0 0\n",
            " 0 0 0 0 0 0 0 0 0 0 0 0 0 0 0 0 0 0 0 2 0 0 0 0 2 0 0 0 0 0 0 0 0 0 0 0 0\n",
            " 0 0 0 0 0 0 0 0 0 0 0 0 0 0 0 0 0 0 0 0 0 0 0 0 0 0 0 0 0 0 0 0 0 0 0 0 0\n",
            " 0 0]\n"
          ]
        }
      ]
    },
    {
      "cell_type": "code",
      "metadata": {
        "id": "RZK2RLcZEtQt"
      },
      "source": [
        "from sklearn import metrics\n",
        "MSE = []\n",
        "for k in range(1,5):\n",
        "  labels = kmeans(df,k,300)\n",
        "  MSE.append(metrics.mean_squared_error(labels,load_iris().target))"
      ],
      "execution_count": 7,
      "outputs": []
    },
    {
      "cell_type": "code",
      "metadata": {
        "colab": {
          "base_uri": "https://localhost:8080/"
        },
        "id": "Dd_LNR87FJUb",
        "outputId": "d89ea628-fc52-46a7-d949-254333414d41"
      },
      "source": [
        "print(MSE)"
      ],
      "execution_count": 8,
      "outputs": [
        {
          "output_type": "stream",
          "name": "stdout",
          "text": [
            "[1.6666666666666667, 0.35333333333333333, 2.6133333333333333, 1.86]\n"
          ]
        }
      ]
    },
    {
      "cell_type": "markdown",
      "metadata": {
        "id": "_33JAVnNFnQL"
      },
      "source": [
        "Inertia Method"
      ]
    },
    {
      "cell_type": "code",
      "metadata": {
        "id": "S5yAY4dhFNEf"
      },
      "source": [
        "inertia=[]\n",
        "def kmeans(x,k,no_of_iterations):\n",
        "  ##INITIALIZATION\n",
        "  indx = np.random.choice(len(x),k,replace=False) #randomly choose few centroids\n",
        "  centroids = x[indx,:]\n",
        "  #distance of each training example with each centroid\n",
        "  distances = cdist(x,centroids,'euclidean') #distance matrix x*k\n",
        "  labels = np.array([np.argmin(i) for i in distances]) \n",
        "  ##RUN ITERATIONS\n",
        "  for epochs in range(no_of_iterations):\n",
        "    centroids = []\n",
        "    for i in range(k):\n",
        "      temp = x[labels==i].mean(axis=0)\n",
        "      centroids.append(temp)\n",
        "    centroids = np.vstack(centroids) #Stack arrays in sequence vertically (row wise)\n",
        "    distances = cdist(x,centroids,'euclidean')\n",
        "    labels = np.array([np.argmin(i) for i in distances])\n",
        "  inertia.append(sum(np.min(cdist(x,centroids,'euclidean'),axis = 1)))\n",
        "  return labels"
      ],
      "execution_count": 9,
      "outputs": []
    },
    {
      "cell_type": "code",
      "metadata": {
        "id": "_jTrZLEhGEiM"
      },
      "source": [
        "for K in range(1,5):\n",
        "  labels = kmeans(df,K,300)"
      ],
      "execution_count": 10,
      "outputs": []
    },
    {
      "cell_type": "code",
      "metadata": {
        "colab": {
          "base_uri": "https://localhost:8080/"
        },
        "id": "KblDYdUzGLlI",
        "outputId": "63b0e708-2962-4a7e-b65f-b72a826b4522"
      },
      "source": [
        "print(inertia)"
      ],
      "execution_count": 11,
      "outputs": [
        {
          "output_type": "stream",
          "name": "stdout",
          "text": [
            "[286.4344032482236, 117.65590588944545, 83.60313772823392, 69.53688875287295]\n"
          ]
        }
      ]
    }
  ]
}